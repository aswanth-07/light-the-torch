{
 "cells": [
  {
   "cell_type": "code",
   "execution_count": 1,
   "id": "19e09545",
   "metadata": {},
   "outputs": [
    {
     "name": "stdout",
     "output_type": "stream",
     "text": [
      "2.7.0+cu118\n"
     ]
    }
   ],
   "source": [
    "import torch\n",
    "print(torch.__version__)"
   ]
  },
  {
   "cell_type": "markdown",
   "id": "c66a4c0c",
   "metadata": {},
   "source": [
    "# All about tensors"
   ]
  },
  {
   "cell_type": "markdown",
   "id": "5fd52271",
   "metadata": {},
   "source": [
    "### Basics"
   ]
  },
  {
   "cell_type": "code",
   "execution_count": 2,
   "id": "871cbb73",
   "metadata": {},
   "outputs": [
    {
     "data": {
      "text/plain": [
       "tensor(7)"
      ]
     },
     "execution_count": 2,
     "metadata": {},
     "output_type": "execute_result"
    }
   ],
   "source": [
    "scaler=torch.tensor(7)\n",
    "scaler                           "
   ]
  },
  {
   "cell_type": "code",
   "execution_count": 3,
   "id": "5e9c388d",
   "metadata": {},
   "outputs": [
    {
     "data": {
      "text/plain": [
       "0"
      ]
     },
     "execution_count": 3,
     "metadata": {},
     "output_type": "execute_result"
    }
   ],
   "source": [
    "scaler.ndim"
   ]
  },
  {
   "cell_type": "code",
   "execution_count": 4,
   "id": "3447e5c1",
   "metadata": {},
   "outputs": [],
   "source": [
    "vector = torch.tensor([7,7])"
   ]
  },
  {
   "cell_type": "code",
   "execution_count": 5,
   "id": "4ecc4211",
   "metadata": {},
   "outputs": [
    {
     "data": {
      "text/plain": [
       "1"
      ]
     },
     "execution_count": 5,
     "metadata": {},
     "output_type": "execute_result"
    }
   ],
   "source": [
    "vector.ndim"
   ]
  },
  {
   "cell_type": "code",
   "execution_count": 6,
   "id": "8617b532",
   "metadata": {},
   "outputs": [
    {
     "data": {
      "text/plain": [
       "torch.Size([2])"
      ]
     },
     "execution_count": 6,
     "metadata": {},
     "output_type": "execute_result"
    }
   ],
   "source": [
    "vector.shape"
   ]
  },
  {
   "cell_type": "code",
   "execution_count": 7,
   "id": "a363e625",
   "metadata": {},
   "outputs": [
    {
     "data": {
      "text/plain": [
       "tensor([[1, 2],\n",
       "        [2, 3]])"
      ]
     },
     "execution_count": 7,
     "metadata": {},
     "output_type": "execute_result"
    }
   ],
   "source": [
    "matrix = torch.tensor([[1,2],[2,3]])\n",
    "matrix"
   ]
  },
  {
   "cell_type": "code",
   "execution_count": 8,
   "id": "33a35cc8",
   "metadata": {},
   "outputs": [
    {
     "data": {
      "text/plain": [
       "2"
      ]
     },
     "execution_count": 8,
     "metadata": {},
     "output_type": "execute_result"
    }
   ],
   "source": [
    "matrix.ndim"
   ]
  },
  {
   "cell_type": "code",
   "execution_count": 9,
   "id": "46980ca2",
   "metadata": {},
   "outputs": [
    {
     "data": {
      "text/plain": [
       "torch.Size([2, 2])"
      ]
     },
     "execution_count": 9,
     "metadata": {},
     "output_type": "execute_result"
    }
   ],
   "source": [
    "matrix.shape"
   ]
  },
  {
   "cell_type": "code",
   "execution_count": 10,
   "id": "ec06698d",
   "metadata": {},
   "outputs": [
    {
     "data": {
      "text/plain": [
       "tensor([[[1, 2, 3],\n",
       "         [2, 3, 4],\n",
       "         [3, 4, 5]]])"
      ]
     },
     "execution_count": 10,
     "metadata": {},
     "output_type": "execute_result"
    }
   ],
   "source": [
    "tensor = torch.tensor([[[1,2,3],\n",
    "                        [2,3,4],\n",
    "                        [3,4,5]]])\n",
    "tensor"
   ]
  },
  {
   "cell_type": "markdown",
   "id": "f632ed96",
   "metadata": {},
   "source": [
    "### Random tensors\n",
    "\n",
    "Random tensors are important because the way many neural networks learn is that they start with tensors full of random numbers and then adjust the random numbers to better understand the data.\n",
    "\n",
    "`Start with random number -> look at data -> update random numbers -> look at data -> update random numbers`"
   ]
  },
  {
   "cell_type": "code",
   "execution_count": 11,
   "id": "51a76d00",
   "metadata": {},
   "outputs": [
    {
     "data": {
      "text/plain": [
       "tensor([[[0.2172, 0.7452, 0.0540, 0.3809],\n",
       "         [0.3018, 0.1216, 0.7671, 0.7394],\n",
       "         [0.1045, 0.1662, 0.1999, 0.9585]]])"
      ]
     },
     "execution_count": 11,
     "metadata": {},
     "output_type": "execute_result"
    }
   ],
   "source": [
    "Rand_T = torch.rand(1,3,4)\n",
    "Rand_T"
   ]
  },
  {
   "cell_type": "code",
   "execution_count": 12,
   "id": "7f2ba43c",
   "metadata": {},
   "outputs": [
    {
     "data": {
      "text/plain": [
       "tensor([[[0.4820, 0.0627, 0.5514, 0.5028],\n",
       "         [0.9018, 0.4841, 0.9040, 0.0599],\n",
       "         [0.3531, 0.2318, 0.8157, 0.6357]]])"
      ]
     },
     "execution_count": 12,
     "metadata": {},
     "output_type": "execute_result"
    }
   ],
   "source": [
    "# Random tensor similar to already existing tensor\n",
    "Rand_T_similair_to_already_existing_tensor = torch.rand_like(Rand_T)\n",
    "Rand_T_similair_to_already_existing_tensor"
   ]
  },
  {
   "cell_type": "code",
   "execution_count": 13,
   "id": "63936586",
   "metadata": {},
   "outputs": [
    {
     "data": {
      "text/plain": [
       "tensor([[[0.8850, 0.8372, 0.8364],\n",
       "         [0.2509, 0.6372, 0.1444],\n",
       "         [0.3723, 0.8682, 0.7958],\n",
       "         ...,\n",
       "         [0.2503, 0.4323, 0.4617],\n",
       "         [0.8633, 0.6826, 0.3854],\n",
       "         [0.2899, 0.1663, 0.6483]],\n",
       "\n",
       "        [[0.2338, 0.6567, 0.6716],\n",
       "         [0.4214, 0.7832, 0.9846],\n",
       "         [0.7025, 0.0446, 0.4048],\n",
       "         ...,\n",
       "         [0.7856, 0.7314, 0.5844],\n",
       "         [0.7564, 0.2756, 0.8467],\n",
       "         [0.0869, 0.1366, 0.7361]],\n",
       "\n",
       "        [[0.0043, 0.5628, 0.8224],\n",
       "         [0.9700, 0.6432, 0.9264],\n",
       "         [0.4694, 0.9841, 0.2929],\n",
       "         ...,\n",
       "         [0.2981, 0.4434, 0.1448],\n",
       "         [0.3651, 0.3632, 0.1721],\n",
       "         [0.1246, 0.7509, 0.6108]],\n",
       "\n",
       "        ...,\n",
       "\n",
       "        [[0.8084, 0.3404, 0.1957],\n",
       "         [0.6711, 0.4855, 0.9708],\n",
       "         [0.2785, 0.7647, 0.4968],\n",
       "         ...,\n",
       "         [0.6523, 0.5329, 0.6665],\n",
       "         [0.3910, 0.9708, 0.9489],\n",
       "         [0.7571, 0.6403, 0.0857]],\n",
       "\n",
       "        [[0.0241, 0.7981, 0.9838],\n",
       "         [0.5076, 0.5473, 0.1494],\n",
       "         [0.9568, 0.0029, 0.6715],\n",
       "         ...,\n",
       "         [0.7434, 0.4091, 0.0872],\n",
       "         [0.9651, 0.5452, 0.7262],\n",
       "         [0.3903, 0.1578, 0.7531]],\n",
       "\n",
       "        [[0.9778, 0.9363, 0.1759],\n",
       "         [0.6742, 0.4277, 0.1184],\n",
       "         [0.6545, 0.8725, 0.3395],\n",
       "         ...,\n",
       "         [0.0024, 0.1685, 0.1171],\n",
       "         [0.1285, 0.4547, 0.1856],\n",
       "         [0.2427, 0.2702, 0.4312]]])"
      ]
     },
     "execution_count": 13,
     "metadata": {},
     "output_type": "execute_result"
    }
   ],
   "source": [
    "# Random tensor with similar shape to an image tensor\n",
    "image_t = torch.rand(size=(224,224,3))\n",
    "image_t"
   ]
  },
  {
   "cell_type": "markdown",
   "id": "f2b445f3",
   "metadata": {},
   "source": [
    "### Zeros and ones"
   ]
  },
  {
   "cell_type": "code",
   "execution_count": 14,
   "id": "c5926039",
   "metadata": {},
   "outputs": [
    {
     "data": {
      "text/plain": [
       "tensor([[0., 0., 0., 0.],\n",
       "        [0., 0., 0., 0.],\n",
       "        [0., 0., 0., 0.]])"
      ]
     },
     "execution_count": 14,
     "metadata": {},
     "output_type": "execute_result"
    }
   ],
   "source": [
    "zeros = torch.zeros(size=(3,4))\n",
    "zeros"
   ]
  },
  {
   "cell_type": "code",
   "execution_count": 15,
   "id": "89a58b22",
   "metadata": {},
   "outputs": [
    {
     "data": {
      "text/plain": [
       "tensor([[1., 1., 1., 1.],\n",
       "        [1., 1., 1., 1.],\n",
       "        [1., 1., 1., 1.]])"
      ]
     },
     "execution_count": 15,
     "metadata": {},
     "output_type": "execute_result"
    }
   ],
   "source": [
    "ones = torch.ones((3,4))\n",
    "ones"
   ]
  },
  {
   "cell_type": "markdown",
   "id": "e514627f",
   "metadata": {},
   "source": [
    "### Creating a range of tensors and tensor like"
   ]
  },
  {
   "cell_type": "code",
   "execution_count": 16,
   "id": "fdb14bc9",
   "metadata": {},
   "outputs": [
    {
     "data": {
      "text/plain": [
       "tensor([ 1,  2,  3,  4,  5,  6,  7,  8,  9, 10, 11, 12, 13, 14, 15, 16, 17, 18,\n",
       "        19])"
      ]
     },
     "execution_count": 16,
     "metadata": {},
     "output_type": "execute_result"
    }
   ],
   "source": [
    "range_t = torch.arange(1,20)\n",
    "range_t"
   ]
  },
  {
   "cell_type": "code",
   "execution_count": 17,
   "id": "71cedb08",
   "metadata": {},
   "outputs": [
    {
     "data": {
      "text/plain": [
       "tensor([0, 0, 0, 0, 0, 0, 0, 0, 0, 0, 0, 0, 0, 0, 0, 0, 0, 0, 0])"
      ]
     },
     "execution_count": 17,
     "metadata": {},
     "output_type": "execute_result"
    }
   ],
   "source": [
    "# Creating a tensor like\n",
    "zer = torch.zeros_like(range_t)\n",
    "zer"
   ]
  },
  {
   "cell_type": "markdown",
   "id": "7ac3f825",
   "metadata": {},
   "source": [
    "### Tensor Datatypes\n",
    "\n",
    "**Note:** Errors that can occur with tensors:\n",
    "\n",
    "1. Tensors not right datatype\n",
    "2. not right shape\n",
    "3. not on the right device"
   ]
  },
  {
   "cell_type": "code",
   "execution_count": 18,
   "id": "0c22f8c3",
   "metadata": {},
   "outputs": [
    {
     "data": {
      "text/plain": [
       "tensor([3.0000, 4.0000, 3.3000])"
      ]
     },
     "execution_count": 18,
     "metadata": {},
     "output_type": "execute_result"
    }
   ],
   "source": [
    "# float 32\n",
    "float_32_t = torch.tensor([3.0,4.0,3.3],\n",
    "                          dtype=None, # Defines the datatype for the tensor\n",
    "                          device=None, # Mentions the device where the tensor is stored\n",
    "                          requires_grad=False, # To track the gradients of the tensor\n",
    "                          )\n",
    "\n",
    "float_32_t"
   ]
  },
  {
   "cell_type": "code",
   "execution_count": 19,
   "id": "7ee079c0",
   "metadata": {},
   "outputs": [
    {
     "data": {
      "text/plain": [
       "tensor([3.0000, 4.0000, 3.3008], dtype=torch.float16)"
      ]
     },
     "execution_count": 19,
     "metadata": {},
     "output_type": "execute_result"
    }
   ],
   "source": [
    "float_16_t = float_32_t.type(torch.HalfTensor)\n",
    "float_16_t"
   ]
  },
  {
   "cell_type": "code",
   "execution_count": 20,
   "id": "b864007a",
   "metadata": {},
   "outputs": [
    {
     "data": {
      "text/plain": [
       "tensor([ 9.0000, 16.0000, 10.8926])"
      ]
     },
     "execution_count": 20,
     "metadata": {},
     "output_type": "execute_result"
    }
   ],
   "source": [
    "float_32_t * float_16_t"
   ]
  },
  {
   "cell_type": "markdown",
   "id": "705c111e",
   "metadata": {},
   "source": [
    "### Getting information from tensors (Tensor attributes)\n",
    "1. `tensor.dtype`\n",
    "2. `tensor.shape`\n",
    "3. `tensor.device`"
   ]
  },
  {
   "cell_type": "code",
   "execution_count": 21,
   "id": "efa35c60",
   "metadata": {},
   "outputs": [
    {
     "data": {
      "text/plain": [
       "tensor([[0.5313, 0.7174, 0.6426, 0.7842],\n",
       "        [0.1918, 0.9846, 0.0258, 0.1916],\n",
       "        [0.3670, 0.2775, 0.1461, 0.5175]])"
      ]
     },
     "execution_count": 21,
     "metadata": {},
     "output_type": "execute_result"
    }
   ],
   "source": [
    "F= torch.rand(3,4)\n",
    "F"
   ]
  },
  {
   "cell_type": "code",
   "execution_count": 22,
   "id": "d4082bb5",
   "metadata": {},
   "outputs": [
    {
     "name": "stdout",
     "output_type": "stream",
     "text": [
      "datatype =  torch.float32\n",
      "Shape:  torch.Size([3, 4])\n",
      "Device:  cpu\n"
     ]
    }
   ],
   "source": [
    "#finding specific informations abt the tensor\n",
    "\n",
    "print(\"datatype = \",F.dtype)\n",
    "print(\"Shape: \",F.shape)\n",
    "print(\"Device: \" ,F.device)"
   ]
  },
  {
   "cell_type": "markdown",
   "id": "76f2b324",
   "metadata": {},
   "source": [
    "### Manipulatin Tensors (tensor operations)\n",
    "\n",
    "Tensor operations:\n",
    "* add\n",
    "* subtract\n",
    "* multiplication\n",
    "* division\n",
    "* matrix multiplication"
   ]
  },
  {
   "cell_type": "code",
   "execution_count": 23,
   "id": "bb6d2109",
   "metadata": {},
   "outputs": [
    {
     "data": {
      "text/plain": [
       "tensor([1, 2, 3])"
      ]
     },
     "execution_count": 23,
     "metadata": {},
     "output_type": "execute_result"
    }
   ],
   "source": [
    "tensor = torch.tensor([1,2,3])\n",
    "tensor"
   ]
  },
  {
   "cell_type": "code",
   "execution_count": 24,
   "id": "ba2be837",
   "metadata": {},
   "outputs": [
    {
     "data": {
      "text/plain": [
       "tensor([11, 12, 13])"
      ]
     },
     "execution_count": 24,
     "metadata": {},
     "output_type": "execute_result"
    }
   ],
   "source": [
    "tensor + 10"
   ]
  },
  {
   "cell_type": "code",
   "execution_count": 25,
   "id": "9a59ec53",
   "metadata": {},
   "outputs": [
    {
     "data": {
      "text/plain": [
       "tensor([10, 20, 30])"
      ]
     },
     "execution_count": 25,
     "metadata": {},
     "output_type": "execute_result"
    }
   ],
   "source": [
    "tensor * 10"
   ]
  },
  {
   "cell_type": "code",
   "execution_count": 26,
   "id": "ebc3ddee",
   "metadata": {},
   "outputs": [
    {
     "data": {
      "text/plain": [
       "tensor([-9, -8, -7])"
      ]
     },
     "execution_count": 26,
     "metadata": {},
     "output_type": "execute_result"
    }
   ],
   "source": [
    "tensor - 10"
   ]
  },
  {
   "cell_type": "code",
   "execution_count": 27,
   "id": "83efd043",
   "metadata": {},
   "outputs": [
    {
     "data": {
      "text/plain": [
       "tensor([0.1000, 0.2000, 0.3000])"
      ]
     },
     "execution_count": 27,
     "metadata": {},
     "output_type": "execute_result"
    }
   ],
   "source": [
    "tensor/10"
   ]
  },
  {
   "cell_type": "code",
   "execution_count": 28,
   "id": "e3c69ded",
   "metadata": {},
   "outputs": [
    {
     "data": {
      "text/plain": [
       "tensor([11, 12, 13])"
      ]
     },
     "execution_count": 28,
     "metadata": {},
     "output_type": "execute_result"
    }
   ],
   "source": [
    "#inbuild pytorch functions\n",
    "torch.add(tensor,10)"
   ]
  },
  {
   "cell_type": "markdown",
   "id": "7266e94b",
   "metadata": {},
   "source": [
    "### Matrix multiplication\n",
    "\n",
    "2 main ways of performing multiplication in nueral networks and deep learning:\n",
    "\n",
    "1. Element-wise multiplication\n",
    "2. Matrix multiplication(dot product) (obviosly used more often)"
   ]
  },
  {
   "cell_type": "code",
   "execution_count": 29,
   "id": "cb492b91",
   "metadata": {},
   "outputs": [
    {
     "name": "stdout",
     "output_type": "stream",
     "text": [
      "tensor([1, 2, 3]) * tensor([1, 2, 3])\n",
      "equals tensor([1, 4, 9])\n"
     ]
    }
   ],
   "source": [
    "# Element-wise multiplication\n",
    "print(tensor, \"*\",tensor)\n",
    "print(f\"equals {tensor * tensor}\")"
   ]
  },
  {
   "cell_type": "code",
   "execution_count": 30,
   "id": "804adf4a",
   "metadata": {},
   "outputs": [
    {
     "data": {
      "text/plain": [
       "tensor([[0.6406, 1.0121, 1.2421, 1.2106],\n",
       "        [0.3897, 0.4534, 0.6595, 0.6333],\n",
       "        [0.4898, 0.6961, 0.8790, 0.8779],\n",
       "        [0.2555, 0.5721, 0.6593, 0.5855],\n",
       "        [0.5219, 0.8507, 0.9434, 1.0087],\n",
       "        [0.2259, 0.4465, 0.7376, 0.4668],\n",
       "        [0.3372, 0.5095, 0.3184, 0.6447]])"
      ]
     },
     "execution_count": 30,
     "metadata": {},
     "output_type": "execute_result"
    }
   ],
   "source": [
    "# Matrix multlication\n",
    "tensor = torch.rand(7,3)\n",
    "tensor1 = torch.rand(3,4)\n",
    "torch.matmul(tensor,tensor1)"
   ]
  },
  {
   "cell_type": "code",
   "execution_count": 31,
   "id": "e26b96aa",
   "metadata": {},
   "outputs": [
    {
     "data": {
      "text/plain": [
       "tensor([[0.8316, 0.9798, 0.8788],\n",
       "        [0.1247, 0.7951, 0.7170],\n",
       "        [0.4481, 0.8606, 0.7254],\n",
       "        [0.7405, 0.1421, 0.2493],\n",
       "        [0.7217, 0.8212, 0.5709],\n",
       "        [0.5543, 0.0741, 0.5482],\n",
       "        [0.3170, 0.7551, 0.0466]])"
      ]
     },
     "execution_count": 31,
     "metadata": {},
     "output_type": "execute_result"
    }
   ],
   "source": [
    "#matrix transpose\n",
    "tensor"
   ]
  },
  {
   "cell_type": "code",
   "execution_count": 32,
   "id": "e0feaefd",
   "metadata": {},
   "outputs": [
    {
     "data": {
      "text/plain": [
       "tensor([[0.8316, 0.1247, 0.4481, 0.7405, 0.7217, 0.5543, 0.3170],\n",
       "        [0.9798, 0.7951, 0.8606, 0.1421, 0.8212, 0.0741, 0.7551],\n",
       "        [0.8788, 0.7170, 0.7254, 0.2493, 0.5709, 0.5482, 0.0466]])"
      ]
     },
     "execution_count": 32,
     "metadata": {},
     "output_type": "execute_result"
    }
   ],
   "source": [
    "tensor.T"
   ]
  },
  {
   "cell_type": "markdown",
   "id": "5d9e67e1",
   "metadata": {},
   "source": [
    "### Finding min,max,mean,sum etc(tensor aggregation)"
   ]
  },
  {
   "cell_type": "code",
   "execution_count": 33,
   "id": "7cb9478c",
   "metadata": {},
   "outputs": [
    {
     "data": {
      "text/plain": [
       "tensor(0.9798)"
      ]
     },
     "execution_count": 33,
     "metadata": {},
     "output_type": "execute_result"
    }
   ],
   "source": [
    "tensor.max()"
   ]
  },
  {
   "cell_type": "code",
   "execution_count": 34,
   "id": "7ff2e2db",
   "metadata": {},
   "outputs": [
    {
     "ename": "RuntimeError",
     "evalue": "mean(): could not infer output dtype. Input dtype must be either a floating point or complex dtype. Got: Long",
     "output_type": "error",
     "traceback": [
      "\u001b[1;31m---------------------------------------------------------------------------\u001b[0m",
      "\u001b[1;31mRuntimeError\u001b[0m                              Traceback (most recent call last)",
      "Cell \u001b[1;32mIn[34], line 3\u001b[0m\n\u001b[0;32m      1\u001b[0m \u001b[38;5;66;03m# mean needs the data type to be float32 or some complex sh8 not int\u001b[39;00m\n\u001b[0;32m      2\u001b[0m int_t \u001b[38;5;241m=\u001b[39m torch\u001b[38;5;241m.\u001b[39marange(\u001b[38;5;241m1\u001b[39m,\u001b[38;5;241m10\u001b[39m)\n\u001b[1;32m----> 3\u001b[0m \u001b[43mint_t\u001b[49m\u001b[38;5;241;43m.\u001b[39;49m\u001b[43mmean\u001b[49m\u001b[43m(\u001b[49m\u001b[43m)\u001b[49m\n",
      "\u001b[1;31mRuntimeError\u001b[0m: mean(): could not infer output dtype. Input dtype must be either a floating point or complex dtype. Got: Long"
     ]
    }
   ],
   "source": [
    "# mean needs the data type to be float32 or some complex sh8 not int\n",
    "int_t = torch.arange(1,10)\n",
    "int_t.mean()"
   ]
  },
  {
   "cell_type": "code",
   "execution_count": 35,
   "id": "bfb33b48",
   "metadata": {},
   "outputs": [
    {
     "data": {
      "text/plain": [
       "tensor(5.)"
      ]
     },
     "execution_count": 35,
     "metadata": {},
     "output_type": "execute_result"
    }
   ],
   "source": [
    "int_t.type(torch.float32).mean()                                   "
   ]
  },
  {
   "cell_type": "code",
   "execution_count": 36,
   "id": "b995b331",
   "metadata": {},
   "outputs": [
    {
     "data": {
      "text/plain": [
       "tensor(0)"
      ]
     },
     "execution_count": 36,
     "metadata": {},
     "output_type": "execute_result"
    }
   ],
   "source": [
    "# positonal max min\n",
    "int_t.argmin() # returns the index of the min value"
   ]
  },
  {
   "cell_type": "markdown",
   "id": "deca67d1",
   "metadata": {},
   "source": [
    "### reshaping viewing and stacking\n",
    "* Reshaping - reshapes an input tensor to a defined shape\n",
    "* View - Return a view of an input tensor of certain shape but keep the same memory as the original tensor\n",
    "* Stacking - combine multiple tensors on top of each other (vstack) or side by side (hstack)\n",
    "* Squeeze - removes all 1 dimensions from a tensor\n",
    "* Unsqueeze - add a 1 dimension to a target tensor\n",
    "* Permute - Return a view of the input with dimensions permuted (Swapped) in a certain view"
   ]
  },
  {
   "cell_type": "code",
   "execution_count": 37,
   "id": "5f1a2316",
   "metadata": {},
   "outputs": [
    {
     "data": {
      "text/plain": [
       "(tensor([1., 2., 3., 4., 5., 6., 7., 8., 9.]), torch.Size([9]))"
      ]
     },
     "execution_count": 37,
     "metadata": {},
     "output_type": "execute_result"
    }
   ],
   "source": [
    "#new tensor\n",
    "x =torch.arange(1.,10.)\n",
    "x,x.shape"
   ]
  },
  {
   "cell_type": "code",
   "execution_count": 38,
   "id": "4a3a5898",
   "metadata": {},
   "outputs": [
    {
     "data": {
      "text/plain": [
       "(tensor([[1., 2., 3.],\n",
       "         [4., 5., 6.],\n",
       "         [7., 8., 9.]]),\n",
       " torch.Size([3, 3]))"
      ]
     },
     "execution_count": 38,
     "metadata": {},
     "output_type": "execute_result"
    }
   ],
   "source": [
    "#Reshape\n",
    "x_reshape = x.reshape(3,3)\n",
    "x_reshape,x_reshape.shape"
   ]
  },
  {
   "cell_type": "code",
   "execution_count": 39,
   "id": "7539a8f0",
   "metadata": {},
   "outputs": [
    {
     "data": {
      "text/plain": [
       "(tensor([[1., 2., 3.],\n",
       "         [4., 5., 6.],\n",
       "         [7., 8., 9.]]),\n",
       " torch.Size([3, 3]))"
      ]
     },
     "execution_count": 39,
     "metadata": {},
     "output_type": "execute_result"
    }
   ],
   "source": [
    "# Change the view\n",
    "z = x.view(3,3)\n",
    "z,z.shape"
   ]
  },
  {
   "cell_type": "code",
   "execution_count": 40,
   "id": "ced30a1f",
   "metadata": {},
   "outputs": [
    {
     "data": {
      "text/plain": [
       "(tensor([[ 1.,  2.,  3.],\n",
       "         [ 4., 66.,  6.],\n",
       "         [ 7.,  8.,  9.]]),\n",
       " tensor([ 1.,  2.,  3.,  4., 66.,  6.,  7.,  8.,  9.]))"
      ]
     },
     "execution_count": 40,
     "metadata": {},
     "output_type": "execute_result"
    }
   ],
   "source": [
    "# z and x share the same memory but only the view changes hence any changes made on z will reflect on x\n",
    "z[1][1] = 66\n",
    "z,x"
   ]
  },
  {
   "cell_type": "code",
   "execution_count": 41,
   "id": "3785f752",
   "metadata": {},
   "outputs": [
    {
     "data": {
      "text/plain": [
       "tensor([[[ 1.,  2.,  3.],\n",
       "         [ 1.,  2.,  3.]],\n",
       "\n",
       "        [[ 4., 66.,  6.],\n",
       "         [ 4., 66.,  6.]],\n",
       "\n",
       "        [[ 7.,  8.,  9.],\n",
       "         [ 7.,  8.,  9.]]])"
      ]
     },
     "execution_count": 41,
     "metadata": {},
     "output_type": "execute_result"
    }
   ],
   "source": [
    "# Stack tensors on top of each other\n",
    "x_stacked = torch.stack([x_reshape,x_reshape],dim=1)\n",
    "x_stacked"
   ]
  },
  {
   "cell_type": "code",
   "execution_count": 42,
   "id": "9630f221",
   "metadata": {},
   "outputs": [
    {
     "data": {
      "text/plain": [
       "tensor([[0.7228, 0.0336, 0.3579, 0.4388, 0.6863, 0.4444, 0.8746, 0.3352, 0.2252,\n",
       "         0.7120]])"
      ]
     },
     "execution_count": 42,
     "metadata": {},
     "output_type": "execute_result"
    }
   ],
   "source": [
    "# Squeeze \n",
    "tensor=torch.rand(1 ,10)\n",
    "tensor"
   ]
  },
  {
   "cell_type": "code",
   "execution_count": 43,
   "id": "5d6f6c8a",
   "metadata": {},
   "outputs": [
    {
     "name": "stdout",
     "output_type": "stream",
     "text": [
      "Previous tensor: tensor([[0.7228, 0.0336, 0.3579, 0.4388, 0.6863, 0.4444, 0.8746, 0.3352, 0.2252,\n",
      "         0.7120]])\n",
      "Previous shape: torch.Size([1, 10])\n",
      "\n",
      "New tensor: tensor([0.7228, 0.0336, 0.3579, 0.4388, 0.6863, 0.4444, 0.8746, 0.3352, 0.2252,\n",
      "        0.7120])\n",
      "New shape: torch.Size([10])\n"
     ]
    }
   ],
   "source": [
    "# tensor.squeeze() - removes all the single dimension from a target tensor\n",
    "print(f\"Previous tensor: {tensor}\")\n",
    "print(f\"Previous shape: {tensor.shape}\")\n",
    "\n",
    "tensor_squeezed = tensor.squeeze()\n",
    "print(f\"\\nNew tensor: {tensor_squeezed}\")\n",
    "print(f\"New shape: {tensor_squeezed.shape}\")\n"
   ]
  },
  {
   "cell_type": "code",
   "execution_count": 44,
   "id": "a9b83e24",
   "metadata": {},
   "outputs": [
    {
     "name": "stdout",
     "output_type": "stream",
     "text": [
      "Old tensor: tensor([0.7228, 0.0336, 0.3579, 0.4388, 0.6863, 0.4444, 0.8746, 0.3352, 0.2252,\n",
      "        0.7120])\n",
      "Old shape: torch.Size([1, 10])\n",
      "\n",
      "New tensor: tensor([[0.7228],\n",
      "        [0.0336],\n",
      "        [0.3579],\n",
      "        [0.4388],\n",
      "        [0.6863],\n",
      "        [0.4444],\n",
      "        [0.8746],\n",
      "        [0.3352],\n",
      "        [0.2252],\n",
      "        [0.7120]])\n",
      "New shape: torch.Size([10, 1])\n"
     ]
    }
   ],
   "source": [
    "# tensor.unsqueeze() - adds a single dimension to a target tensor at a specific dim\n",
    "print(f\"Old tensor: {tensor_squeezed}\")\n",
    "print(f\"Old shape: {tensor.shape}\")\n",
    "\n",
    "tensor_unsqueezed = tensor_squeezed.unsqueeze(dim=-1)\n",
    "print(f\"\\nNew tensor: {tensor_unsqueezed}\")\n",
    "print(f\"New shape: {tensor_unsqueezed.shape}\")"
   ]
  },
  {
   "cell_type": "code",
   "execution_count": 45,
   "id": "a434c884",
   "metadata": {},
   "outputs": [
    {
     "name": "stdout",
     "output_type": "stream",
     "text": [
      "original tensor: tensor([[[0.4600, 0.9246, 0.6049],\n",
      "         [0.4752, 0.9126, 0.8775],\n",
      "         [0.3411, 0.8306, 0.6232],\n",
      "         [0.3697, 0.4355, 0.9945]],\n",
      "\n",
      "        [[0.6081, 0.3401, 0.6936],\n",
      "         [0.8883, 0.7630, 0.8623],\n",
      "         [0.8676, 0.5601, 0.1810],\n",
      "         [0.6142, 0.9756, 0.5162]],\n",
      "\n",
      "        [[0.1765, 0.1190, 0.2450],\n",
      "         [0.2094, 0.6094, 0.8048],\n",
      "         [0.4720, 0.3989, 0.1036],\n",
      "         [0.1839, 0.3778, 0.1332]],\n",
      "\n",
      "        [[0.8564, 0.1715, 0.1873],\n",
      "         [0.2305, 0.0251, 0.7820],\n",
      "         [0.3314, 0.1051, 0.4450],\n",
      "         [0.7271, 0.7876, 0.2769]],\n",
      "\n",
      "        [[0.5820, 0.6702, 0.6693],\n",
      "         [0.0224, 0.2586, 0.4640],\n",
      "         [0.2890, 0.7901, 0.1657],\n",
      "         [0.9504, 0.4862, 0.8204]]])\n",
      "original shape: torch.Size([5, 4, 3])\n",
      "\n",
      "permuted tensortensor([[[0.4600, 0.4752, 0.3411, 0.3697],\n",
      "         [0.6081, 0.8883, 0.8676, 0.6142],\n",
      "         [0.1765, 0.2094, 0.4720, 0.1839],\n",
      "         [0.8564, 0.2305, 0.3314, 0.7271],\n",
      "         [0.5820, 0.0224, 0.2890, 0.9504]],\n",
      "\n",
      "        [[0.9246, 0.9126, 0.8306, 0.4355],\n",
      "         [0.3401, 0.7630, 0.5601, 0.9756],\n",
      "         [0.1190, 0.6094, 0.3989, 0.3778],\n",
      "         [0.1715, 0.0251, 0.1051, 0.7876],\n",
      "         [0.6702, 0.2586, 0.7901, 0.4862]],\n",
      "\n",
      "        [[0.6049, 0.8775, 0.6232, 0.9945],\n",
      "         [0.6936, 0.8623, 0.1810, 0.5162],\n",
      "         [0.2450, 0.8048, 0.1036, 0.1332],\n",
      "         [0.1873, 0.7820, 0.4450, 0.2769],\n",
      "         [0.6693, 0.4640, 0.1657, 0.8204]]])\n",
      "permuted shape: torch.Size([3, 5, 4])\n"
     ]
    }
   ],
   "source": [
    "# torch.permute - rearranges the dimension of a target tensor in a specific order\n",
    "original = torch.rand(size = (5,4,3))\n",
    "print(f\"original tensor: {original}\")\n",
    "print(f\"original shape: {original.shape}\")\n",
    "original_permute = original.permute(2,0,1)\n",
    "print(f\"\\npermuted tensor{original_permute}\")\n",
    "print(f\"permuted shape: {original_permute.shape}\")"
   ]
  },
  {
   "cell_type": "markdown",
   "id": "7755b9b5",
   "metadata": {},
   "source": [
    "### Indexing\n",
    "similar to numpy"
   ]
  },
  {
   "cell_type": "code",
   "execution_count": 46,
   "id": "396d67bb",
   "metadata": {},
   "outputs": [
    {
     "data": {
      "text/plain": [
       "(tensor([[[1, 2, 3],\n",
       "          [4, 5, 6],\n",
       "          [7, 8, 9]]]),\n",
       " torch.Size([1, 3, 3]))"
      ]
     },
     "execution_count": 46,
     "metadata": {},
     "output_type": "execute_result"
    }
   ],
   "source": [
    "tensor = torch.arange(1,10).reshape(1,3,3)\n",
    "tensor,tensor.shape"
   ]
  },
  {
   "cell_type": "code",
   "execution_count": 47,
   "id": "3409ab13",
   "metadata": {},
   "outputs": [
    {
     "data": {
      "text/plain": [
       "tensor([[1, 2, 3],\n",
       "        [4, 5, 6],\n",
       "        [7, 8, 9]])"
      ]
     },
     "execution_count": 47,
     "metadata": {},
     "output_type": "execute_result"
    }
   ],
   "source": [
    "tensor[0]"
   ]
  },
  {
   "cell_type": "code",
   "execution_count": 48,
   "id": "04d3dde6",
   "metadata": {},
   "outputs": [
    {
     "data": {
      "text/plain": [
       "tensor([1, 2, 3])"
      ]
     },
     "execution_count": 48,
     "metadata": {},
     "output_type": "execute_result"
    }
   ],
   "source": [
    "tensor[0][0]"
   ]
  },
  {
   "cell_type": "code",
   "execution_count": 49,
   "id": "3c7a7aad",
   "metadata": {},
   "outputs": [
    {
     "data": {
      "text/plain": [
       "tensor(1)"
      ]
     },
     "execution_count": 49,
     "metadata": {},
     "output_type": "execute_result"
    }
   ],
   "source": [
    "tensor[0][0][0]"
   ]
  },
  {
   "cell_type": "code",
   "execution_count": 50,
   "id": "edc87eb3",
   "metadata": {},
   "outputs": [
    {
     "data": {
      "text/plain": [
       "tensor([[2, 5, 8]])"
      ]
     },
     "execution_count": 50,
     "metadata": {},
     "output_type": "execute_result"
    }
   ],
   "source": [
    "# using \" : \"\n",
    "# getting all the values of the 0th and 1st dimension but only index 1 of the 2nd dimension\n",
    "tensor[:,:,1]"
   ]
  },
  {
   "cell_type": "code",
   "execution_count": 51,
   "id": "fd997f35",
   "metadata": {},
   "outputs": [
    {
     "data": {
      "text/plain": [
       "tensor([3, 6, 9])"
      ]
     },
     "execution_count": 51,
     "metadata": {},
     "output_type": "execute_result"
    }
   ],
   "source": [
    "tensor[0,:,2]"
   ]
  },
  {
   "cell_type": "markdown",
   "id": "ac0a7384",
   "metadata": {},
   "source": [
    "## PyTorch tensors & Numpy\n",
    "\n",
    "NumPy is a popular scientific Python numerical computing library.\n",
    "\n",
    "And because of this, PyTorch has functionality to interact with it.\n",
    "\n",
    "* Data in NumPy to PyTorch tensor -> `torch.from_numpy(ndarray)`\n",
    "* tensor -> NumPy -> `torch.tensor.numpy()`"
   ]
  },
  {
   "cell_type": "code",
   "execution_count": 52,
   "id": "26b79282",
   "metadata": {},
   "outputs": [
    {
     "data": {
      "text/plain": [
       "tensor([1, 2, 3, 4, 5, 6, 7, 8, 9], dtype=torch.int32)"
      ]
     },
     "execution_count": 52,
     "metadata": {},
     "output_type": "execute_result"
    }
   ],
   "source": [
    "# NumPy array to tensor\n",
    "import numpy as np\n",
    "arr = np.arange(1,10)\n",
    "tensor = torch.from_numpy(arr) # same dtype as the arr\n",
    "tensor"
   ]
  },
  {
   "cell_type": "code",
   "execution_count": 53,
   "id": "7015cb3a",
   "metadata": {},
   "outputs": [
    {
     "data": {
      "text/plain": [
       "(tensor([ 2,  3,  4,  5,  6,  7,  8,  9, 10], dtype=torch.int32),\n",
       " array([ 2,  3,  4,  5,  6,  7,  8,  9, 10]))"
      ]
     },
     "execution_count": 53,
     "metadata": {},
     "output_type": "execute_result"
    }
   ],
   "source": [
    "#in place operations reflect in both tensor and numpy\n",
    "arr+=1\n",
    "tensor,arr"
   ]
  },
  {
   "cell_type": "code",
   "execution_count": 54,
   "id": "f6ae8b75",
   "metadata": {},
   "outputs": [
    {
     "data": {
      "text/plain": [
       "(tensor([1., 1., 1., 1., 1., 1., 1.]),\n",
       " array([1., 1., 1., 1., 1., 1., 1.], dtype=float32))"
      ]
     },
     "execution_count": 54,
     "metadata": {},
     "output_type": "execute_result"
    }
   ],
   "source": [
    "# Tensor to NumPy array\n",
    "tensor = torch.ones(7)\n",
    "numpy_tensor = tensor.numpy()\n",
    "tensor, numpy_tensor"
   ]
  },
  {
   "cell_type": "code",
   "execution_count": 55,
   "id": "77c36237",
   "metadata": {},
   "outputs": [
    {
     "data": {
      "text/plain": [
       "(tensor([2., 2., 2., 2., 2., 2., 2.]),\n",
       " array([1., 1., 1., 1., 1., 1., 1.], dtype=float32))"
      ]
     },
     "execution_count": 55,
     "metadata": {},
     "output_type": "execute_result"
    }
   ],
   "source": [
    "\n",
    "tensor=tensor +1\n",
    "tensor,numpy_tensor"
   ]
  },
  {
   "cell_type": "markdown",
   "id": "a04ed889",
   "metadata": {},
   "source": [
    "# Reproducibility (making the code less random)\n",
    "\n",
    "steps involed in how a neural network learns:\n",
    "\n",
    "`Start with random numbers -> tensor operations -> update random numbers to try and make them better representation of the data->  again -> again -> again`\n",
    "\n",
    "so as to reduce teh randomness in the neural networks and pytorch we use **random seed**.\n",
    "\n",
    "Essentially what the random seed does is \"flavour\" the randomness.\n"
   ]
  },
  {
   "cell_type": "code",
   "execution_count": 56,
   "id": "310cd5b0",
   "metadata": {},
   "outputs": [
    {
     "name": "stdout",
     "output_type": "stream",
     "text": [
      "tensor([[0.4514, 0.3255, 0.5820, 0.4958],\n",
      "        [0.6796, 0.7735, 0.1865, 0.1349],\n",
      "        [0.8087, 0.1172, 0.0905, 0.1479]])\n",
      "tensor([[0.9029, 0.4334, 0.7018, 0.6195],\n",
      "        [0.3031, 0.2298, 0.8661, 0.2831],\n",
      "        [0.1126, 0.6651, 0.4717, 0.8678]])\n",
      "tensor([[False, False, False, False],\n",
      "        [False, False, False, False],\n",
      "        [False, False, False, False]])\n"
     ]
    }
   ],
   "source": [
    "import torch\n",
    "\n",
    "#Creating 2 random tensors\n",
    "rand_1 = torch.rand(3,4)\n",
    "rand_2 = torch.rand(3,4)\n",
    "\n",
    "print(rand_1)\n",
    "print(rand_2)\n",
    "print(rand_1==rand_2)"
   ]
  },
  {
   "cell_type": "code",
   "execution_count": 57,
   "id": "68b12422",
   "metadata": {},
   "outputs": [
    {
     "name": "stdout",
     "output_type": "stream",
     "text": [
      "tensor([[0.8823, 0.9150, 0.3829, 0.9593],\n",
      "        [0.3904, 0.6009, 0.2566, 0.7936],\n",
      "        [0.9408, 0.1332, 0.9346, 0.5936]])\n",
      "tensor([[0.8823, 0.9150, 0.3829, 0.9593],\n",
      "        [0.3904, 0.6009, 0.2566, 0.7936],\n",
      "        [0.9408, 0.1332, 0.9346, 0.5936]])\n",
      "tensor([[True, True, True, True],\n",
      "        [True, True, True, True],\n",
      "        [True, True, True, True]])\n"
     ]
    }
   ],
   "source": [
    "# making random but reproducible tensors\n",
    "torch.manual_seed(42)\n",
    "rand_1 = torch.rand(3,4)\n",
    "\n",
    "torch.manual_seed(42) # resets the seed\n",
    "rand_2 = torch.rand(3,4)\n",
    "\n",
    "print(rand_1)\n",
    "print(rand_2)\n",
    "print(rand_1==rand_2)"
   ]
  },
  {
   "cell_type": "markdown",
   "id": "ddbc2db7",
   "metadata": {},
   "source": [
    "# Running tensors and Pytorch objects on the GPUs\n"
   ]
  },
  {
   "cell_type": "markdown",
   "id": "070b438a",
   "metadata": {},
   "source": [
    "## check for gpu access with pytorch"
   ]
  },
  {
   "cell_type": "code",
   "execution_count": 58,
   "id": "c82bb8bc",
   "metadata": {},
   "outputs": [
    {
     "name": "stdout",
     "output_type": "stream",
     "text": [
      "11.8\n",
      "True\n",
      "0\n",
      "NVIDIA GeForce GTX 1650\n"
     ]
    }
   ],
   "source": [
    "import torch\n",
    "print(torch.version.cuda)          # Should show CUDA version like '11.8'\n",
    "print(torch.cuda.is_available())   # Should be True\n",
    "print(torch.cuda.current_device()) # Should give a device index, e.g., 0\n",
    "print(torch.cuda.get_device_name(0))"
   ]
  },
  {
   "cell_type": "code",
   "execution_count": 59,
   "id": "4f52724f",
   "metadata": {},
   "outputs": [],
   "source": [
    "# Setup device agnostic code\n",
    "\n",
    "device = torch.device(\"cuda\" if torch.cuda.is_available() else \"cpu\")"
   ]
  },
  {
   "cell_type": "code",
   "execution_count": 60,
   "id": "36437835",
   "metadata": {},
   "outputs": [
    {
     "data": {
      "text/plain": [
       "device(type='cpu')"
      ]
     },
     "execution_count": 60,
     "metadata": {},
     "output_type": "execute_result"
    }
   ],
   "source": [
    "# By default tensor is created on the cpu\n",
    "tensor = torch.arange(1,10)\n",
    "tensor.device # tensor not in gpu"
   ]
  },
  {
   "cell_type": "code",
   "execution_count": 61,
   "id": "391749a3",
   "metadata": {},
   "outputs": [
    {
     "data": {
      "text/plain": [
       "tensor([1, 2, 3, 4, 5, 6, 7, 8, 9], device='cuda:0')"
      ]
     },
     "execution_count": 61,
     "metadata": {},
     "output_type": "execute_result"
    }
   ],
   "source": [
    "#move tensor to gpu\n",
    "tensor_on_gpu = tensor.to(device)\n",
    "tensor_on_gpu"
   ]
  },
  {
   "cell_type": "markdown",
   "id": "63d33453",
   "metadata": {},
   "source": [
    "## Moving tensors back to the CPU"
   ]
  },
  {
   "cell_type": "code",
   "execution_count": 62,
   "id": "43529aff",
   "metadata": {},
   "outputs": [
    {
     "ename": "TypeError",
     "evalue": "can't convert cuda:0 device type tensor to numpy. Use Tensor.cpu() to copy the tensor to host memory first.",
     "output_type": "error",
     "traceback": [
      "\u001b[1;31m---------------------------------------------------------------------------\u001b[0m",
      "\u001b[1;31mTypeError\u001b[0m                                 Traceback (most recent call last)",
      "Cell \u001b[1;32mIn[62], line 2\u001b[0m\n\u001b[0;32m      1\u001b[0m \u001b[38;5;66;03m# if tensor is on gpu, cant convert it to numpy\u001b[39;00m\n\u001b[1;32m----> 2\u001b[0m \u001b[43mtensor_on_gpu\u001b[49m\u001b[38;5;241;43m.\u001b[39;49m\u001b[43mnumpy\u001b[49m\u001b[43m(\u001b[49m\u001b[43m)\u001b[49m\n",
      "\u001b[1;31mTypeError\u001b[0m: can't convert cuda:0 device type tensor to numpy. Use Tensor.cpu() to copy the tensor to host memory first."
     ]
    }
   ],
   "source": [
    "# if tensor is on gpu, cant convert it to numpy\n",
    "tensor_on_gpu.numpy()"
   ]
  },
  {
   "cell_type": "code",
   "execution_count": 63,
   "id": "8d454d87",
   "metadata": {},
   "outputs": [
    {
     "data": {
      "text/plain": [
       "array([1, 2, 3, 4, 5, 6, 7, 8, 9], dtype=int64)"
      ]
     },
     "execution_count": 63,
     "metadata": {},
     "output_type": "execute_result"
    }
   ],
   "source": [
    "#hence move it to cpu first and then convert it to numpy\n",
    "tensoroncpu = tensor_on_gpu.to(\"cpu\")\n",
    "tensoroncpu.numpy()"
   ]
  },
  {
   "cell_type": "code",
   "execution_count": null,
   "id": "1c3ab6be",
   "metadata": {},
   "outputs": [],
   "source": []
  }
 ],
 "metadata": {
  "kernelspec": {
   "display_name": "Python 3",
   "language": "python",
   "name": "python3"
  },
  "language_info": {
   "codemirror_mode": {
    "name": "ipython",
    "version": 3
   },
   "file_extension": ".py",
   "mimetype": "text/x-python",
   "name": "python",
   "nbconvert_exporter": "python",
   "pygments_lexer": "ipython3",
   "version": "3.10.11"
  }
 },
 "nbformat": 4,
 "nbformat_minor": 5
}
