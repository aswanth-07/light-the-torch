{
 "cells": [
  {
   "cell_type": "code",
   "execution_count": 1,
   "id": "19e09545",
   "metadata": {},
   "outputs": [
    {
     "name": "stdout",
     "output_type": "stream",
     "text": [
      "2.7.0+cu118\n"
     ]
    }
   ],
   "source": [
    "import torch\n",
    "print(torch.__version__)"
   ]
  },
  {
   "cell_type": "markdown",
   "id": "c66a4c0c",
   "metadata": {},
   "source": [
    "# All about tensors"
   ]
  },
  {
   "cell_type": "markdown",
   "id": "5fd52271",
   "metadata": {},
   "source": [
    "### Basics"
   ]
  },
  {
   "cell_type": "code",
   "execution_count": 2,
   "id": "871cbb73",
   "metadata": {},
   "outputs": [
    {
     "data": {
      "text/plain": [
       "tensor(7)"
      ]
     },
     "execution_count": 2,
     "metadata": {},
     "output_type": "execute_result"
    }
   ],
   "source": [
    "scaler=torch.tensor(7)\n",
    "scaler                           "
   ]
  },
  {
   "cell_type": "code",
   "execution_count": 3,
   "id": "5e9c388d",
   "metadata": {},
   "outputs": [
    {
     "data": {
      "text/plain": [
       "0"
      ]
     },
     "execution_count": 3,
     "metadata": {},
     "output_type": "execute_result"
    }
   ],
   "source": [
    "scaler.ndim"
   ]
  },
  {
   "cell_type": "code",
   "execution_count": 4,
   "id": "3447e5c1",
   "metadata": {},
   "outputs": [],
   "source": [
    "vector = torch.tensor([7,7])"
   ]
  },
  {
   "cell_type": "code",
   "execution_count": 5,
   "id": "4ecc4211",
   "metadata": {},
   "outputs": [
    {
     "data": {
      "text/plain": [
       "1"
      ]
     },
     "execution_count": 5,
     "metadata": {},
     "output_type": "execute_result"
    }
   ],
   "source": [
    "vector.ndim"
   ]
  },
  {
   "cell_type": "code",
   "execution_count": 6,
   "id": "8617b532",
   "metadata": {},
   "outputs": [
    {
     "data": {
      "text/plain": [
       "torch.Size([2])"
      ]
     },
     "execution_count": 6,
     "metadata": {},
     "output_type": "execute_result"
    }
   ],
   "source": [
    "vector.shape"
   ]
  },
  {
   "cell_type": "code",
   "execution_count": 7,
   "id": "a363e625",
   "metadata": {},
   "outputs": [
    {
     "data": {
      "text/plain": [
       "tensor([[1, 2],\n",
       "        [2, 3]])"
      ]
     },
     "execution_count": 7,
     "metadata": {},
     "output_type": "execute_result"
    }
   ],
   "source": [
    "matrix = torch.tensor([[1,2],[2,3]])\n",
    "matrix"
   ]
  },
  {
   "cell_type": "code",
   "execution_count": 8,
   "id": "33a35cc8",
   "metadata": {},
   "outputs": [
    {
     "data": {
      "text/plain": [
       "2"
      ]
     },
     "execution_count": 8,
     "metadata": {},
     "output_type": "execute_result"
    }
   ],
   "source": [
    "matrix.ndim"
   ]
  },
  {
   "cell_type": "code",
   "execution_count": 9,
   "id": "46980ca2",
   "metadata": {},
   "outputs": [
    {
     "data": {
      "text/plain": [
       "torch.Size([2, 2])"
      ]
     },
     "execution_count": 9,
     "metadata": {},
     "output_type": "execute_result"
    }
   ],
   "source": [
    "matrix.shape"
   ]
  },
  {
   "cell_type": "code",
   "execution_count": 10,
   "id": "ec06698d",
   "metadata": {},
   "outputs": [
    {
     "data": {
      "text/plain": [
       "tensor([[[1, 2, 3],\n",
       "         [2, 3, 4],\n",
       "         [3, 4, 5]]])"
      ]
     },
     "execution_count": 10,
     "metadata": {},
     "output_type": "execute_result"
    }
   ],
   "source": [
    "tensor = torch.tensor([[[1,2,3],\n",
    "                        [2,3,4],\n",
    "                        [3,4,5]]])\n",
    "tensor"
   ]
  },
  {
   "cell_type": "markdown",
   "id": "f632ed96",
   "metadata": {},
   "source": [
    "### Random tensors\n",
    "\n",
    "Random tensors are important because the way many neural networks learn is that they start with tensors full of random numbers and then adjust the random numbers to better understand the data.\n",
    "\n",
    "`Start with random number -> look at data -> update random numbers -> look at data -> update random numbers`"
   ]
  },
  {
   "cell_type": "code",
   "execution_count": 11,
   "id": "51a76d00",
   "metadata": {},
   "outputs": [
    {
     "data": {
      "text/plain": [
       "tensor([[[0.1448, 0.9949, 0.9975, 0.4618],\n",
       "         [0.8071, 0.6063, 0.3902, 0.6486],\n",
       "         [0.7912, 0.4682, 0.9457, 0.2707]]])"
      ]
     },
     "execution_count": 11,
     "metadata": {},
     "output_type": "execute_result"
    }
   ],
   "source": [
    "Rand_T = torch.rand(1,3,4)\n",
    "Rand_T"
   ]
  },
  {
   "cell_type": "code",
   "execution_count": 12,
   "id": "7f2ba43c",
   "metadata": {},
   "outputs": [
    {
     "data": {
      "text/plain": [
       "tensor([[[0.4915, 0.3728, 0.1925, 0.9258],\n",
       "         [0.6690, 0.1709, 0.7627, 0.6922],\n",
       "         [0.8722, 0.8684, 0.5962, 0.8587]]])"
      ]
     },
     "execution_count": 12,
     "metadata": {},
     "output_type": "execute_result"
    }
   ],
   "source": [
    "# Random tensor similar to already existing tensor\n",
    "Rand_T_similair_to_already_existing_tensor = torch.rand_like(Rand_T)\n",
    "Rand_T_similair_to_already_existing_tensor"
   ]
  },
  {
   "cell_type": "code",
   "execution_count": 13,
   "id": "63936586",
   "metadata": {},
   "outputs": [
    {
     "data": {
      "text/plain": [
       "tensor([[[0.4249, 0.0508, 0.8455],\n",
       "         [0.2762, 0.4646, 0.1345],\n",
       "         [0.8034, 0.9929, 0.9921],\n",
       "         ...,\n",
       "         [0.2215, 0.0050, 0.0956],\n",
       "         [0.7054, 0.0992, 0.3023],\n",
       "         [0.8385, 0.7041, 0.3658]],\n",
       "\n",
       "        [[0.9761, 0.1059, 0.5397],\n",
       "         [0.3368, 0.4360, 0.2821],\n",
       "         [0.8013, 0.4782, 0.4300],\n",
       "         ...,\n",
       "         [0.7325, 0.8265, 0.1727],\n",
       "         [0.1796, 0.0312, 0.6679],\n",
       "         [0.0625, 0.5707, 0.2530]],\n",
       "\n",
       "        [[0.5350, 0.7214, 0.0292],\n",
       "         [0.0872, 0.4914, 0.3706],\n",
       "         [0.3576, 0.6547, 0.6576],\n",
       "         ...,\n",
       "         [0.8671, 0.0763, 0.8649],\n",
       "         [0.6796, 0.8968, 0.1685],\n",
       "         [0.6705, 0.1818, 0.6477]],\n",
       "\n",
       "        ...,\n",
       "\n",
       "        [[0.2811, 0.7088, 0.5372],\n",
       "         [0.9886, 0.7092, 0.1751],\n",
       "         [0.8457, 0.6517, 0.5780],\n",
       "         ...,\n",
       "         [0.6583, 0.3914, 0.0062],\n",
       "         [0.3946, 0.4773, 0.0240],\n",
       "         [0.4715, 0.5356, 0.3341]],\n",
       "\n",
       "        [[0.5656, 0.5442, 0.4591],\n",
       "         [0.0062, 0.5401, 0.7006],\n",
       "         [0.0105, 0.5967, 0.3781],\n",
       "         ...,\n",
       "         [0.5084, 0.8606, 0.9903],\n",
       "         [0.4526, 0.4150, 0.0256],\n",
       "         [0.8539, 0.9463, 0.3806]],\n",
       "\n",
       "        [[0.8064, 0.4849, 0.8544],\n",
       "         [0.0364, 0.6062, 0.8177],\n",
       "         [0.9521, 0.2795, 0.5438],\n",
       "         ...,\n",
       "         [0.6242, 0.1340, 0.1231],\n",
       "         [0.6778, 0.1055, 0.4390],\n",
       "         [0.3156, 0.8001, 0.5055]]])"
      ]
     },
     "execution_count": 13,
     "metadata": {},
     "output_type": "execute_result"
    }
   ],
   "source": [
    "# Random tensor with similar shape to an image tensor\n",
    "image_t = torch.rand(size=(224,224,3))\n",
    "image_t"
   ]
  },
  {
   "cell_type": "markdown",
   "id": "f2b445f3",
   "metadata": {},
   "source": [
    "### Zeros and ones"
   ]
  },
  {
   "cell_type": "code",
   "execution_count": 14,
   "id": "c5926039",
   "metadata": {},
   "outputs": [
    {
     "data": {
      "text/plain": [
       "tensor([[0., 0., 0., 0.],\n",
       "        [0., 0., 0., 0.],\n",
       "        [0., 0., 0., 0.]])"
      ]
     },
     "execution_count": 14,
     "metadata": {},
     "output_type": "execute_result"
    }
   ],
   "source": [
    "zeros = torch.zeros(size=(3,4))\n",
    "zeros"
   ]
  },
  {
   "cell_type": "code",
   "execution_count": 15,
   "id": "89a58b22",
   "metadata": {},
   "outputs": [
    {
     "data": {
      "text/plain": [
       "tensor([[1., 1., 1., 1.],\n",
       "        [1., 1., 1., 1.],\n",
       "        [1., 1., 1., 1.]])"
      ]
     },
     "execution_count": 15,
     "metadata": {},
     "output_type": "execute_result"
    }
   ],
   "source": [
    "ones = torch.ones((3,4))\n",
    "ones"
   ]
  },
  {
   "cell_type": "markdown",
   "id": "e514627f",
   "metadata": {},
   "source": [
    "### Creating a range of tensors and tensor like"
   ]
  },
  {
   "cell_type": "code",
   "execution_count": 16,
   "id": "fdb14bc9",
   "metadata": {},
   "outputs": [
    {
     "data": {
      "text/plain": [
       "tensor([ 1,  2,  3,  4,  5,  6,  7,  8,  9, 10, 11, 12, 13, 14, 15, 16, 17, 18,\n",
       "        19])"
      ]
     },
     "execution_count": 16,
     "metadata": {},
     "output_type": "execute_result"
    }
   ],
   "source": [
    "range_t = torch.arange(1,20)\n",
    "range_t"
   ]
  },
  {
   "cell_type": "code",
   "execution_count": 17,
   "id": "71cedb08",
   "metadata": {},
   "outputs": [
    {
     "data": {
      "text/plain": [
       "tensor([0, 0, 0, 0, 0, 0, 0, 0, 0, 0, 0, 0, 0, 0, 0, 0, 0, 0, 0])"
      ]
     },
     "execution_count": 17,
     "metadata": {},
     "output_type": "execute_result"
    }
   ],
   "source": [
    "# Creating a tensor like\n",
    "zer = torch.zeros_like(range_t)\n",
    "zer"
   ]
  },
  {
   "cell_type": "markdown",
   "id": "7ac3f825",
   "metadata": {},
   "source": [
    "### Tensor Datatypes\n",
    "\n",
    "**Note:** Errors that can occur with tensors:\n",
    "\n",
    "1. Tensors not right datatype\n",
    "2. not right shape\n",
    "3. not on the right device"
   ]
  },
  {
   "cell_type": "code",
   "execution_count": 18,
   "id": "0c22f8c3",
   "metadata": {},
   "outputs": [
    {
     "data": {
      "text/plain": [
       "tensor([3.0000, 4.0000, 3.3000])"
      ]
     },
     "execution_count": 18,
     "metadata": {},
     "output_type": "execute_result"
    }
   ],
   "source": [
    "# float 32\n",
    "float_32_t = torch.tensor([3.0,4.0,3.3],\n",
    "                          dtype=None, # Defines the datatype for the tensor\n",
    "                          device=None, # Mentions the device where the tensor is stored\n",
    "                          requires_grad=False, # To track the gradients of the tensor\n",
    "                          )\n",
    "\n",
    "float_32_t"
   ]
  },
  {
   "cell_type": "code",
   "execution_count": 19,
   "id": "7ee079c0",
   "metadata": {},
   "outputs": [
    {
     "data": {
      "text/plain": [
       "tensor([3.0000, 4.0000, 3.3008], dtype=torch.float16)"
      ]
     },
     "execution_count": 19,
     "metadata": {},
     "output_type": "execute_result"
    }
   ],
   "source": [
    "float_16_t = float_32_t.type(torch.HalfTensor)\n",
    "float_16_t"
   ]
  },
  {
   "cell_type": "code",
   "execution_count": 20,
   "id": "b864007a",
   "metadata": {},
   "outputs": [
    {
     "data": {
      "text/plain": [
       "tensor([ 9.0000, 16.0000, 10.8926])"
      ]
     },
     "execution_count": 20,
     "metadata": {},
     "output_type": "execute_result"
    }
   ],
   "source": [
    "float_32_t * float_16_t"
   ]
  },
  {
   "cell_type": "markdown",
   "id": "705c111e",
   "metadata": {},
   "source": [
    "### Getting information from tensors (Tensor attributes)\n",
    "1. `tensor.dtype`\n",
    "2. `tensor.shape`\n",
    "3. `tensor.device`"
   ]
  },
  {
   "cell_type": "code",
   "execution_count": 21,
   "id": "efa35c60",
   "metadata": {},
   "outputs": [
    {
     "data": {
      "text/plain": [
       "tensor([[0.0284, 0.1301, 0.0515, 0.8134],\n",
       "        [0.5321, 0.8178, 0.5854, 0.2322],\n",
       "        [0.2198, 0.3902, 0.6611, 0.8284]])"
      ]
     },
     "execution_count": 21,
     "metadata": {},
     "output_type": "execute_result"
    }
   ],
   "source": [
    "F= torch.rand(3,4)\n",
    "F"
   ]
  },
  {
   "cell_type": "code",
   "execution_count": 22,
   "id": "d4082bb5",
   "metadata": {},
   "outputs": [
    {
     "name": "stdout",
     "output_type": "stream",
     "text": [
      "datatype =  torch.float32\n",
      "Shape:  torch.Size([3, 4])\n",
      "Device:  cpu\n"
     ]
    }
   ],
   "source": [
    "#finding specific informations abt the tensor\n",
    "\n",
    "print(\"datatype = \",F.dtype)\n",
    "print(\"Shape: \",F.shape)\n",
    "print(\"Device: \" ,F.device)"
   ]
  },
  {
   "cell_type": "markdown",
   "id": "76f2b324",
   "metadata": {},
   "source": [
    "### Manipulatin Tensors (tensor operations)\n",
    "\n",
    "Tensor operations:\n",
    "* add\n",
    "* subtract\n",
    "* multiplication\n",
    "* division\n",
    "* matrix multiplication"
   ]
  },
  {
   "cell_type": "code",
   "execution_count": 23,
   "id": "bb6d2109",
   "metadata": {},
   "outputs": [
    {
     "data": {
      "text/plain": [
       "tensor([1, 2, 3])"
      ]
     },
     "execution_count": 23,
     "metadata": {},
     "output_type": "execute_result"
    }
   ],
   "source": [
    "tensor = torch.tensor([1,2,3])\n",
    "tensor"
   ]
  },
  {
   "cell_type": "code",
   "execution_count": 24,
   "id": "ba2be837",
   "metadata": {},
   "outputs": [
    {
     "data": {
      "text/plain": [
       "tensor([11, 12, 13])"
      ]
     },
     "execution_count": 24,
     "metadata": {},
     "output_type": "execute_result"
    }
   ],
   "source": [
    "tensor + 10"
   ]
  },
  {
   "cell_type": "code",
   "execution_count": 25,
   "id": "9a59ec53",
   "metadata": {},
   "outputs": [
    {
     "data": {
      "text/plain": [
       "tensor([10, 20, 30])"
      ]
     },
     "execution_count": 25,
     "metadata": {},
     "output_type": "execute_result"
    }
   ],
   "source": [
    "tensor * 10"
   ]
  },
  {
   "cell_type": "code",
   "execution_count": 26,
   "id": "ebc3ddee",
   "metadata": {},
   "outputs": [
    {
     "data": {
      "text/plain": [
       "tensor([-9, -8, -7])"
      ]
     },
     "execution_count": 26,
     "metadata": {},
     "output_type": "execute_result"
    }
   ],
   "source": [
    "tensor - 10"
   ]
  },
  {
   "cell_type": "code",
   "execution_count": 27,
   "id": "83efd043",
   "metadata": {},
   "outputs": [
    {
     "data": {
      "text/plain": [
       "tensor([0.1000, 0.2000, 0.3000])"
      ]
     },
     "execution_count": 27,
     "metadata": {},
     "output_type": "execute_result"
    }
   ],
   "source": [
    "tensor/10"
   ]
  },
  {
   "cell_type": "code",
   "execution_count": 28,
   "id": "e3c69ded",
   "metadata": {},
   "outputs": [
    {
     "data": {
      "text/plain": [
       "tensor([11, 12, 13])"
      ]
     },
     "execution_count": 28,
     "metadata": {},
     "output_type": "execute_result"
    }
   ],
   "source": [
    "#inbuild pytorch functions\n",
    "torch.add(tensor,10)"
   ]
  },
  {
   "cell_type": "markdown",
   "id": "7266e94b",
   "metadata": {},
   "source": [
    "### Matrix multiplication\n",
    "\n",
    "2 main ways of performing multiplication in nueral networks and deep learning:\n",
    "\n",
    "1. Element-wise multiplication\n",
    "2. Matrix multiplication(dot product) (obviosly used more often)"
   ]
  },
  {
   "cell_type": "code",
   "execution_count": 29,
   "id": "cb492b91",
   "metadata": {},
   "outputs": [
    {
     "name": "stdout",
     "output_type": "stream",
     "text": [
      "tensor([1, 2, 3]) * tensor([1, 2, 3])\n",
      "equals tensor([1, 4, 9])\n"
     ]
    }
   ],
   "source": [
    "# Element-wise multiplication\n",
    "print(tensor, \"*\",tensor)\n",
    "print(f\"equals {tensor * tensor}\")"
   ]
  },
  {
   "cell_type": "code",
   "execution_count": 30,
   "id": "804adf4a",
   "metadata": {},
   "outputs": [
    {
     "data": {
      "text/plain": [
       "tensor([[1.6584, 1.3745, 1.5298, 0.8588],\n",
       "        [1.8113, 1.6414, 1.7615, 0.8647],\n",
       "        [0.9888, 0.8404, 0.9260, 0.4708],\n",
       "        [0.6133, 0.6317, 0.6431, 0.4441],\n",
       "        [0.9911, 0.9517, 0.9945, 0.7649],\n",
       "        [1.4505, 1.1444, 1.3011, 0.7504],\n",
       "        [0.9286, 0.8108, 0.8849, 0.3300]])"
      ]
     },
     "execution_count": 30,
     "metadata": {},
     "output_type": "execute_result"
    }
   ],
   "source": [
    "# Matrix multlication\n",
    "tensor = torch.rand(7,3)\n",
    "tensor1 = torch.rand(3,4)\n",
    "torch.matmul(tensor,tensor1)"
   ]
  },
  {
   "cell_type": "code",
   "execution_count": 31,
   "id": "e26b96aa",
   "metadata": {},
   "outputs": [
    {
     "data": {
      "text/plain": [
       "tensor([[0.3096, 0.6878, 0.9954],\n",
       "        [0.9727, 0.7019, 0.9015],\n",
       "        [0.3009, 0.3613, 0.5928],\n",
       "        [0.5349, 0.4721, 0.0356],\n",
       "        [0.5433, 0.8024, 0.1395],\n",
       "        [0.0315, 0.5795, 0.9747],\n",
       "        [0.4536, 0.1937, 0.6173]])"
      ]
     },
     "execution_count": 31,
     "metadata": {},
     "output_type": "execute_result"
    }
   ],
   "source": [
    "#matrix transpose\n",
    "tensor"
   ]
  },
  {
   "cell_type": "code",
   "execution_count": 32,
   "id": "e0feaefd",
   "metadata": {},
   "outputs": [
    {
     "data": {
      "text/plain": [
       "tensor([[0.3096, 0.9727, 0.3009, 0.5349, 0.5433, 0.0315, 0.4536],\n",
       "        [0.6878, 0.7019, 0.3613, 0.4721, 0.8024, 0.5795, 0.1937],\n",
       "        [0.9954, 0.9015, 0.5928, 0.0356, 0.1395, 0.9747, 0.6173]])"
      ]
     },
     "execution_count": 32,
     "metadata": {},
     "output_type": "execute_result"
    }
   ],
   "source": [
    "tensor.T"
   ]
  },
  {
   "cell_type": "markdown",
   "id": "5d9e67e1",
   "metadata": {},
   "source": [
    "### Finding min,max,mean,sum etc(tensor aggregation)"
   ]
  },
  {
   "cell_type": "code",
   "execution_count": 33,
   "id": "7cb9478c",
   "metadata": {},
   "outputs": [
    {
     "data": {
      "text/plain": [
       "tensor(0.9954)"
      ]
     },
     "execution_count": 33,
     "metadata": {},
     "output_type": "execute_result"
    }
   ],
   "source": [
    "tensor.max()"
   ]
  },
  {
   "cell_type": "code",
   "execution_count": 34,
   "id": "7ff2e2db",
   "metadata": {},
   "outputs": [
    {
     "ename": "RuntimeError",
     "evalue": "mean(): could not infer output dtype. Input dtype must be either a floating point or complex dtype. Got: Long",
     "output_type": "error",
     "traceback": [
      "\u001b[1;31m---------------------------------------------------------------------------\u001b[0m",
      "\u001b[1;31mRuntimeError\u001b[0m                              Traceback (most recent call last)",
      "Cell \u001b[1;32mIn[34], line 3\u001b[0m\n\u001b[0;32m      1\u001b[0m \u001b[38;5;66;03m# mean needs the data type to be float32 or some complex sh8 not int\u001b[39;00m\n\u001b[0;32m      2\u001b[0m int_t \u001b[38;5;241m=\u001b[39m torch\u001b[38;5;241m.\u001b[39marange(\u001b[38;5;241m1\u001b[39m,\u001b[38;5;241m10\u001b[39m)\n\u001b[1;32m----> 3\u001b[0m \u001b[43mint_t\u001b[49m\u001b[38;5;241;43m.\u001b[39;49m\u001b[43mmean\u001b[49m\u001b[43m(\u001b[49m\u001b[43m)\u001b[49m\n",
      "\u001b[1;31mRuntimeError\u001b[0m: mean(): could not infer output dtype. Input dtype must be either a floating point or complex dtype. Got: Long"
     ]
    }
   ],
   "source": [
    "# mean needs the data type to be float32 or some complex sh8 not int\n",
    "int_t = torch.arange(1,10)\n",
    "int_t.mean()"
   ]
  },
  {
   "cell_type": "code",
   "execution_count": 35,
   "id": "bfb33b48",
   "metadata": {},
   "outputs": [
    {
     "data": {
      "text/plain": [
       "tensor(5.)"
      ]
     },
     "execution_count": 35,
     "metadata": {},
     "output_type": "execute_result"
    }
   ],
   "source": [
    "int_t.type(torch.float32).mean()                                   "
   ]
  },
  {
   "cell_type": "code",
   "execution_count": 36,
   "id": "b995b331",
   "metadata": {},
   "outputs": [
    {
     "data": {
      "text/plain": [
       "tensor(0)"
      ]
     },
     "execution_count": 36,
     "metadata": {},
     "output_type": "execute_result"
    }
   ],
   "source": [
    "# positonal max min\n",
    "int_t.argmin() # returns the index of the min value"
   ]
  },
  {
   "cell_type": "markdown",
   "id": "deca67d1",
   "metadata": {},
   "source": [
    "### reshaping viewing and stacking\n",
    "* Reshaping - reshapes an input tensor to a defined shape\n",
    "* View - Return a view of an input tensor of certain shape but keep the same memory as the original tensor\n",
    "* Stacking - combine multiple tensors on top of each other (vstack) or side by side (hstack)\n",
    "* Squeeze - removes all 1 dimensions from a tensor\n",
    "* Unsqueeze - add a 1 dimension to a target tensor\n",
    "* Permute - Return a view of the input with dimensions permuted (Swapped) in a certain view"
   ]
  },
  {
   "cell_type": "code",
   "execution_count": 37,
   "id": "5f1a2316",
   "metadata": {},
   "outputs": [
    {
     "data": {
      "text/plain": [
       "(tensor([1., 2., 3., 4., 5., 6., 7., 8., 9.]), torch.Size([9]))"
      ]
     },
     "execution_count": 37,
     "metadata": {},
     "output_type": "execute_result"
    }
   ],
   "source": [
    "#new tensor\n",
    "x =torch.arange(1.,10.)\n",
    "x,x.shape"
   ]
  },
  {
   "cell_type": "code",
   "execution_count": 38,
   "id": "4a3a5898",
   "metadata": {},
   "outputs": [
    {
     "data": {
      "text/plain": [
       "(tensor([[1., 2., 3.],\n",
       "         [4., 5., 6.],\n",
       "         [7., 8., 9.]]),\n",
       " torch.Size([3, 3]))"
      ]
     },
     "execution_count": 38,
     "metadata": {},
     "output_type": "execute_result"
    }
   ],
   "source": [
    "#Reshape\n",
    "x_reshape = x.reshape(3,3)\n",
    "x_reshape,x_reshape.shape"
   ]
  },
  {
   "cell_type": "code",
   "execution_count": 39,
   "id": "7539a8f0",
   "metadata": {},
   "outputs": [
    {
     "data": {
      "text/plain": [
       "(tensor([[1., 2., 3.],\n",
       "         [4., 5., 6.],\n",
       "         [7., 8., 9.]]),\n",
       " torch.Size([3, 3]))"
      ]
     },
     "execution_count": 39,
     "metadata": {},
     "output_type": "execute_result"
    }
   ],
   "source": [
    "# Change the view\n",
    "z = x.view(3,3)\n",
    "z,z.shape"
   ]
  },
  {
   "cell_type": "code",
   "execution_count": 40,
   "id": "ced30a1f",
   "metadata": {},
   "outputs": [
    {
     "data": {
      "text/plain": [
       "(tensor([[ 1.,  2.,  3.],\n",
       "         [ 4., 66.,  6.],\n",
       "         [ 7.,  8.,  9.]]),\n",
       " tensor([ 1.,  2.,  3.,  4., 66.,  6.,  7.,  8.,  9.]))"
      ]
     },
     "execution_count": 40,
     "metadata": {},
     "output_type": "execute_result"
    }
   ],
   "source": [
    "# z and x share the same memory but only the view changes hence any changes made on z will reflect on x\n",
    "z[1][1] = 66\n",
    "z,x"
   ]
  },
  {
   "cell_type": "code",
   "execution_count": 41,
   "id": "3785f752",
   "metadata": {},
   "outputs": [
    {
     "data": {
      "text/plain": [
       "tensor([[[ 1.,  2.,  3.],\n",
       "         [ 1.,  2.,  3.]],\n",
       "\n",
       "        [[ 4., 66.,  6.],\n",
       "         [ 4., 66.,  6.]],\n",
       "\n",
       "        [[ 7.,  8.,  9.],\n",
       "         [ 7.,  8.,  9.]]])"
      ]
     },
     "execution_count": 41,
     "metadata": {},
     "output_type": "execute_result"
    }
   ],
   "source": [
    "# Stack tensors on top of each other\n",
    "x_stacked = torch.stack([x_reshape,x_reshape],dim=1)\n",
    "x_stacked"
   ]
  },
  {
   "cell_type": "code",
   "execution_count": 42,
   "id": "9630f221",
   "metadata": {},
   "outputs": [
    {
     "data": {
      "text/plain": [
       "tensor([[0.3021, 0.4566, 0.6425, 0.2067, 0.9713, 0.8384, 0.9930, 0.8420, 0.1248,\n",
       "         0.6940]])"
      ]
     },
     "execution_count": 42,
     "metadata": {},
     "output_type": "execute_result"
    }
   ],
   "source": [
    "# Squeeze \n",
    "tensor=torch.rand(1 ,10)\n",
    "tensor"
   ]
  },
  {
   "cell_type": "code",
   "execution_count": 43,
   "id": "5d6f6c8a",
   "metadata": {},
   "outputs": [
    {
     "name": "stdout",
     "output_type": "stream",
     "text": [
      "Previous tensor: tensor([[0.3021, 0.4566, 0.6425, 0.2067, 0.9713, 0.8384, 0.9930, 0.8420, 0.1248,\n",
      "         0.6940]])\n",
      "Previous shape: torch.Size([1, 10])\n",
      "\n",
      "New tensor: tensor([0.3021, 0.4566, 0.6425, 0.2067, 0.9713, 0.8384, 0.9930, 0.8420, 0.1248,\n",
      "        0.6940])\n",
      "New shape: torch.Size([10])\n"
     ]
    }
   ],
   "source": [
    "# tensor.squeeze() - removes all the single dimension from a target tensor\n",
    "print(f\"Previous tensor: {tensor}\")\n",
    "print(f\"Previous shape: {tensor.shape}\")\n",
    "\n",
    "tensor_squeezed = tensor.squeeze()\n",
    "print(f\"\\nNew tensor: {tensor_squeezed}\")\n",
    "print(f\"New shape: {tensor_squeezed.shape}\")\n"
   ]
  },
  {
   "cell_type": "code",
   "execution_count": 44,
   "id": "a9b83e24",
   "metadata": {},
   "outputs": [
    {
     "name": "stdout",
     "output_type": "stream",
     "text": [
      "Old tensor: tensor([0.3021, 0.4566, 0.6425, 0.2067, 0.9713, 0.8384, 0.9930, 0.8420, 0.1248,\n",
      "        0.6940])\n",
      "Old shape: torch.Size([1, 10])\n",
      "\n",
      "New tensor: tensor([[0.3021],\n",
      "        [0.4566],\n",
      "        [0.6425],\n",
      "        [0.2067],\n",
      "        [0.9713],\n",
      "        [0.8384],\n",
      "        [0.9930],\n",
      "        [0.8420],\n",
      "        [0.1248],\n",
      "        [0.6940]])\n",
      "New shape: torch.Size([10, 1])\n"
     ]
    }
   ],
   "source": [
    "# tensor.unsqueeze() - adds a single dimension to a target tensor at a specific dim\n",
    "print(f\"Old tensor: {tensor_squeezed}\")\n",
    "print(f\"Old shape: {tensor.shape}\")\n",
    "\n",
    "tensor_unsqueezed = tensor_squeezed.unsqueeze(dim=-1)\n",
    "print(f\"\\nNew tensor: {tensor_unsqueezed}\")\n",
    "print(f\"New shape: {tensor_unsqueezed.shape}\")"
   ]
  },
  {
   "cell_type": "code",
   "execution_count": 45,
   "id": "a434c884",
   "metadata": {},
   "outputs": [
    {
     "name": "stdout",
     "output_type": "stream",
     "text": [
      "original tensor: tensor([[[6.3197e-01, 6.5423e-01, 7.0145e-01],\n",
      "         [6.6082e-01, 6.3633e-01, 7.8296e-01],\n",
      "         [2.8189e-01, 7.4136e-01, 9.1800e-01],\n",
      "         [3.7545e-01, 2.5943e-01, 1.1973e-01]],\n",
      "\n",
      "        [[1.2273e-04, 6.6889e-01, 5.7583e-01],\n",
      "         [3.5937e-02, 8.5627e-01, 2.2936e-01],\n",
      "         [8.2965e-01, 5.4999e-01, 9.8382e-01],\n",
      "         [5.9393e-01, 6.2899e-01, 1.0117e-01]],\n",
      "\n",
      "        [[3.2892e-02, 2.9607e-01, 7.7434e-01],\n",
      "         [4.5824e-02, 9.6403e-01, 8.0292e-01],\n",
      "         [5.7722e-02, 5.3540e-01, 3.4372e-01],\n",
      "         [8.7891e-01, 5.6937e-01, 2.2134e-01]],\n",
      "\n",
      "        [[1.0027e-01, 4.4886e-01, 9.0177e-01],\n",
      "         [8.0942e-01, 1.1388e-01, 4.8735e-01],\n",
      "         [6.6136e-01, 1.0372e-01, 8.4519e-01],\n",
      "         [6.4871e-01, 9.7328e-01, 6.1023e-01]],\n",
      "\n",
      "        [[9.5790e-01, 2.7544e-01, 2.7027e-01],\n",
      "         [8.0896e-01, 2.0584e-01, 9.2744e-01],\n",
      "         [2.8238e-01, 2.8107e-01, 4.6021e-01],\n",
      "         [5.1544e-01, 5.5691e-01, 2.2667e-01]]])\n",
      "original shape: torch.Size([5, 4, 3])\n",
      "\n",
      "permuted tensortensor([[[6.3197e-01, 6.6082e-01, 2.8189e-01, 3.7545e-01],\n",
      "         [1.2273e-04, 3.5937e-02, 8.2965e-01, 5.9393e-01],\n",
      "         [3.2892e-02, 4.5824e-02, 5.7722e-02, 8.7891e-01],\n",
      "         [1.0027e-01, 8.0942e-01, 6.6136e-01, 6.4871e-01],\n",
      "         [9.5790e-01, 8.0896e-01, 2.8238e-01, 5.1544e-01]],\n",
      "\n",
      "        [[6.5423e-01, 6.3633e-01, 7.4136e-01, 2.5943e-01],\n",
      "         [6.6889e-01, 8.5627e-01, 5.4999e-01, 6.2899e-01],\n",
      "         [2.9607e-01, 9.6403e-01, 5.3540e-01, 5.6937e-01],\n",
      "         [4.4886e-01, 1.1388e-01, 1.0372e-01, 9.7328e-01],\n",
      "         [2.7544e-01, 2.0584e-01, 2.8107e-01, 5.5691e-01]],\n",
      "\n",
      "        [[7.0145e-01, 7.8296e-01, 9.1800e-01, 1.1973e-01],\n",
      "         [5.7583e-01, 2.2936e-01, 9.8382e-01, 1.0117e-01],\n",
      "         [7.7434e-01, 8.0292e-01, 3.4372e-01, 2.2134e-01],\n",
      "         [9.0177e-01, 4.8735e-01, 8.4519e-01, 6.1023e-01],\n",
      "         [2.7027e-01, 9.2744e-01, 4.6021e-01, 2.2667e-01]]])\n",
      "permuted shape: torch.Size([3, 5, 4])\n"
     ]
    }
   ],
   "source": [
    "# torch.permute - rearranges the dimension of a target tensor in a specific order\n",
    "original = torch.rand(size = (5,4,3))\n",
    "print(f\"original tensor: {original}\")\n",
    "print(f\"original shape: {original.shape}\")\n",
    "original_permute = original.permute(2,0,1)\n",
    "print(f\"\\npermuted tensor{original_permute}\")\n",
    "print(f\"permuted shape: {original_permute.shape}\")"
   ]
  },
  {
   "cell_type": "markdown",
   "id": "7755b9b5",
   "metadata": {},
   "source": [
    "### Indexing\n",
    "similar to numpy"
   ]
  },
  {
   "cell_type": "code",
   "execution_count": 46,
   "id": "396d67bb",
   "metadata": {},
   "outputs": [
    {
     "data": {
      "text/plain": [
       "(tensor([[[1, 2, 3],\n",
       "          [4, 5, 6],\n",
       "          [7, 8, 9]]]),\n",
       " torch.Size([1, 3, 3]))"
      ]
     },
     "execution_count": 46,
     "metadata": {},
     "output_type": "execute_result"
    }
   ],
   "source": [
    "tensor = torch.arange(1,10).reshape(1,3,3)\n",
    "tensor,tensor.shape"
   ]
  },
  {
   "cell_type": "code",
   "execution_count": 47,
   "id": "3409ab13",
   "metadata": {},
   "outputs": [
    {
     "data": {
      "text/plain": [
       "tensor([[1, 2, 3],\n",
       "        [4, 5, 6],\n",
       "        [7, 8, 9]])"
      ]
     },
     "execution_count": 47,
     "metadata": {},
     "output_type": "execute_result"
    }
   ],
   "source": [
    "tensor[0]"
   ]
  },
  {
   "cell_type": "code",
   "execution_count": 48,
   "id": "04d3dde6",
   "metadata": {},
   "outputs": [
    {
     "data": {
      "text/plain": [
       "tensor([1, 2, 3])"
      ]
     },
     "execution_count": 48,
     "metadata": {},
     "output_type": "execute_result"
    }
   ],
   "source": [
    "tensor[0][0]"
   ]
  },
  {
   "cell_type": "code",
   "execution_count": 49,
   "id": "3c7a7aad",
   "metadata": {},
   "outputs": [
    {
     "data": {
      "text/plain": [
       "tensor(1)"
      ]
     },
     "execution_count": 49,
     "metadata": {},
     "output_type": "execute_result"
    }
   ],
   "source": [
    "tensor[0][0][0]"
   ]
  },
  {
   "cell_type": "code",
   "execution_count": 50,
   "id": "edc87eb3",
   "metadata": {},
   "outputs": [
    {
     "data": {
      "text/plain": [
       "tensor([[2, 5, 8]])"
      ]
     },
     "execution_count": 50,
     "metadata": {},
     "output_type": "execute_result"
    }
   ],
   "source": [
    "# using \" : \"\n",
    "# getting all the values of the 0th and 1st dimension but only index 1 of the 2nd dimension\n",
    "tensor[:,:,1]"
   ]
  },
  {
   "cell_type": "code",
   "execution_count": 51,
   "id": "fd997f35",
   "metadata": {},
   "outputs": [
    {
     "data": {
      "text/plain": [
       "tensor([3, 6, 9])"
      ]
     },
     "execution_count": 51,
     "metadata": {},
     "output_type": "execute_result"
    }
   ],
   "source": [
    "tensor[0,:,2]"
   ]
  },
  {
   "cell_type": "markdown",
   "id": "ac0a7384",
   "metadata": {},
   "source": [
    "## PyTorch tensors & Numpy\n",
    "\n",
    "NumPy is a popular scientific Python numerical computing library.\n",
    "\n",
    "And because of this, PyTorch has functionality to interact with it.\n",
    "\n",
    "* Data in NumPy to PyTorch tensor -> `torch.from_numpy(ndarray)`\n",
    "* tensor -> NumPy -> `torch.tensor.numpy()`"
   ]
  },
  {
   "cell_type": "code",
   "execution_count": 52,
   "id": "26b79282",
   "metadata": {},
   "outputs": [
    {
     "data": {
      "text/plain": [
       "tensor([1, 2, 3, 4, 5, 6, 7, 8, 9], dtype=torch.int32)"
      ]
     },
     "execution_count": 52,
     "metadata": {},
     "output_type": "execute_result"
    }
   ],
   "source": [
    "# NumPy array to tensor\n",
    "import numpy as np\n",
    "arr = np.arange(1,10)\n",
    "tensor = torch.from_numpy(arr) # same dtype as the arr\n",
    "tensor"
   ]
  },
  {
   "cell_type": "code",
   "execution_count": 53,
   "id": "7015cb3a",
   "metadata": {},
   "outputs": [
    {
     "data": {
      "text/plain": [
       "(tensor([ 2,  3,  4,  5,  6,  7,  8,  9, 10], dtype=torch.int32),\n",
       " array([ 2,  3,  4,  5,  6,  7,  8,  9, 10]))"
      ]
     },
     "execution_count": 53,
     "metadata": {},
     "output_type": "execute_result"
    }
   ],
   "source": [
    "#in place operations reflect in both tensor and numpy\n",
    "arr+=1\n",
    "tensor,arr"
   ]
  },
  {
   "cell_type": "code",
   "execution_count": 54,
   "id": "f6ae8b75",
   "metadata": {},
   "outputs": [
    {
     "data": {
      "text/plain": [
       "(tensor([1., 1., 1., 1., 1., 1., 1.]),\n",
       " array([1., 1., 1., 1., 1., 1., 1.], dtype=float32))"
      ]
     },
     "execution_count": 54,
     "metadata": {},
     "output_type": "execute_result"
    }
   ],
   "source": [
    "# Tensor to NumPy array\n",
    "tensor = torch.ones(7)\n",
    "numpy_tensor = tensor.numpy()\n",
    "tensor, numpy_tensor"
   ]
  },
  {
   "cell_type": "code",
   "execution_count": 55,
   "id": "77c36237",
   "metadata": {},
   "outputs": [
    {
     "data": {
      "text/plain": [
       "(tensor([2., 2., 2., 2., 2., 2., 2.]),\n",
       " array([1., 1., 1., 1., 1., 1., 1.], dtype=float32))"
      ]
     },
     "execution_count": 55,
     "metadata": {},
     "output_type": "execute_result"
    }
   ],
   "source": [
    "\n",
    "tensor=tensor +1\n",
    "tensor,numpy_tensor"
   ]
  },
  {
   "cell_type": "markdown",
   "id": "a04ed889",
   "metadata": {},
   "source": [
    "# Reproducibility (making the code less random)\n",
    "\n",
    "steps involed in how a neural network learns:\n",
    "\n",
    "`Start with random numbers -> tensor operations -> update random numbers to try and make them better representation of the data->  again -> again -> again`\n",
    "\n",
    "so as to reduce teh randomness in the neural networks and pytorch we use **random seed**.\n",
    "\n",
    "Essentially what the random seed does is \"flavour\" the randomness.\n"
   ]
  },
  {
   "cell_type": "code",
   "execution_count": 56,
   "id": "310cd5b0",
   "metadata": {},
   "outputs": [
    {
     "name": "stdout",
     "output_type": "stream",
     "text": [
      "tensor([[0.3946, 0.2795, 0.6228, 0.4658],\n",
      "        [0.8857, 0.0295, 0.2041, 0.8346],\n",
      "        [0.4297, 0.7812, 0.7438, 0.9797]])\n",
      "tensor([[0.6678, 0.0313, 0.0200, 0.5085],\n",
      "        [0.3347, 0.4615, 0.3656, 0.2663],\n",
      "        [0.3134, 0.4950, 0.9392, 0.4143]])\n",
      "tensor([[False, False, False, False],\n",
      "        [False, False, False, False],\n",
      "        [False, False, False, False]])\n"
     ]
    }
   ],
   "source": [
    "import torch\n",
    "\n",
    "#Creating 2 random tensors\n",
    "rand_1 = torch.rand(3,4)\n",
    "rand_2 = torch.rand(3,4)\n",
    "\n",
    "print(rand_1)\n",
    "print(rand_2)\n",
    "print(rand_1==rand_2)"
   ]
  },
  {
   "cell_type": "code",
   "execution_count": 57,
   "id": "68b12422",
   "metadata": {},
   "outputs": [
    {
     "name": "stdout",
     "output_type": "stream",
     "text": [
      "tensor([[0.8823, 0.9150, 0.3829, 0.9593],\n",
      "        [0.3904, 0.6009, 0.2566, 0.7936],\n",
      "        [0.9408, 0.1332, 0.9346, 0.5936]])\n",
      "tensor([[0.8823, 0.9150, 0.3829, 0.9593],\n",
      "        [0.3904, 0.6009, 0.2566, 0.7936],\n",
      "        [0.9408, 0.1332, 0.9346, 0.5936]])\n",
      "tensor([[True, True, True, True],\n",
      "        [True, True, True, True],\n",
      "        [True, True, True, True]])\n"
     ]
    }
   ],
   "source": [
    "# making random but reproducible tensors\n",
    "torch.manual_seed(42)\n",
    "rand_1 = torch.rand(3,4)\n",
    "\n",
    "torch.manual_seed(42) # resets the seed\n",
    "rand_2 = torch.rand(3,4)\n",
    "\n",
    "print(rand_1)\n",
    "print(rand_2)\n",
    "print(rand_1==rand_2)"
   ]
  },
  {
   "cell_type": "markdown",
   "id": "ddbc2db7",
   "metadata": {},
   "source": [
    "# Running tensors and Pytorch objects on the GPUs\n"
   ]
  },
  {
   "cell_type": "markdown",
   "id": "070b438a",
   "metadata": {},
   "source": [
    "## check for gpu access with pytorch"
   ]
  },
  {
   "cell_type": "code",
   "execution_count": 58,
   "id": "c82bb8bc",
   "metadata": {},
   "outputs": [
    {
     "name": "stdout",
     "output_type": "stream",
     "text": [
      "11.8\n",
      "True\n",
      "0\n",
      "NVIDIA GeForce GTX 1650\n"
     ]
    }
   ],
   "source": [
    "import torch\n",
    "print(torch.version.cuda)          # Should show CUDA version like '11.8'\n",
    "print(torch.cuda.is_available())   # Should be True\n",
    "print(torch.cuda.current_device()) # Should give a device index, e.g., 0\n",
    "print(torch.cuda.get_device_name(0))"
   ]
  },
  {
   "cell_type": "code",
   "execution_count": 59,
   "id": "4f52724f",
   "metadata": {},
   "outputs": [],
   "source": [
    "# Setup device agnostic code\n",
    "\n",
    "device = torch.device(\"cuda\" if torch.cuda.is_available() else \"cpu\")"
   ]
  },
  {
   "cell_type": "code",
   "execution_count": 60,
   "id": "36437835",
   "metadata": {},
   "outputs": [
    {
     "data": {
      "text/plain": [
       "device(type='cpu')"
      ]
     },
     "execution_count": 60,
     "metadata": {},
     "output_type": "execute_result"
    }
   ],
   "source": [
    "# By default tensor is created on the cpu\n",
    "tensor = torch.arange(1,10)\n",
    "tensor.device # tensor not in gpu"
   ]
  },
  {
   "cell_type": "code",
   "execution_count": 61,
   "id": "391749a3",
   "metadata": {},
   "outputs": [
    {
     "data": {
      "text/plain": [
       "tensor([1, 2, 3, 4, 5, 6, 7, 8, 9], device='cuda:0')"
      ]
     },
     "execution_count": 61,
     "metadata": {},
     "output_type": "execute_result"
    }
   ],
   "source": [
    "#move tensor to gpu\n",
    "tensor_on_gpu = tensor.to(device)\n",
    "tensor_on_gpu"
   ]
  },
  {
   "cell_type": "markdown",
   "id": "63d33453",
   "metadata": {},
   "source": [
    "## Moving tensors back to the CPU"
   ]
  },
  {
   "cell_type": "code",
   "execution_count": 62,
   "id": "43529aff",
   "metadata": {},
   "outputs": [
    {
     "ename": "TypeError",
     "evalue": "can't convert cuda:0 device type tensor to numpy. Use Tensor.cpu() to copy the tensor to host memory first.",
     "output_type": "error",
     "traceback": [
      "\u001b[1;31m---------------------------------------------------------------------------\u001b[0m",
      "\u001b[1;31mTypeError\u001b[0m                                 Traceback (most recent call last)",
      "Cell \u001b[1;32mIn[62], line 2\u001b[0m\n\u001b[0;32m      1\u001b[0m \u001b[38;5;66;03m# if tensor is on gpu, cant convert it to numpy\u001b[39;00m\n\u001b[1;32m----> 2\u001b[0m \u001b[43mtensor_on_gpu\u001b[49m\u001b[38;5;241;43m.\u001b[39;49m\u001b[43mnumpy\u001b[49m\u001b[43m(\u001b[49m\u001b[43m)\u001b[49m\n",
      "\u001b[1;31mTypeError\u001b[0m: can't convert cuda:0 device type tensor to numpy. Use Tensor.cpu() to copy the tensor to host memory first."
     ]
    }
   ],
   "source": [
    "# if tensor is on gpu, cant convert it to numpy\n",
    "tensor_on_gpu.numpy()"
   ]
  },
  {
   "cell_type": "code",
   "execution_count": 63,
   "id": "8d454d87",
   "metadata": {},
   "outputs": [
    {
     "data": {
      "text/plain": [
       "array([1, 2, 3, 4, 5, 6, 7, 8, 9], dtype=int64)"
      ]
     },
     "execution_count": 63,
     "metadata": {},
     "output_type": "execute_result"
    }
   ],
   "source": [
    "#hence move it to cpu first and then convert it to numpy\n",
    "tensoroncpu = tensor_on_gpu.to(\"cpu\")\n",
    "tensoroncpu.numpy()"
   ]
  }
 ],
 "metadata": {
  "kernelspec": {
   "display_name": "Python 3",
   "language": "python",
   "name": "python3"
  },
  "language_info": {
   "codemirror_mode": {
    "name": "ipython",
    "version": 3
   },
   "file_extension": ".py",
   "mimetype": "text/x-python",
   "name": "python",
   "nbconvert_exporter": "python",
   "pygments_lexer": "ipython3",
   "version": "3.10.11"
  }
 },
 "nbformat": 4,
 "nbformat_minor": 5
}
